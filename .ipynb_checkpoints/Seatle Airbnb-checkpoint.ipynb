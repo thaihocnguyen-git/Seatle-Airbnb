{
 "cells": [
  {
   "cell_type": "markdown",
   "id": "ddc628f9",
   "metadata": {},
   "source": [
    "# Import"
   ]
  },
  {
   "cell_type": "code",
   "execution_count": 6,
   "id": "bc414fb2",
   "metadata": {},
   "outputs": [],
   "source": [
    "import re\n",
    "import pandas as pd\n",
    "import seaborn as sb\n",
    "import numpy as np\n",
    "from pandas import DataFrame, Series\n",
    "import matplotlib.pyplot as mp\n",
    "\n",
    "from typing import List\n",
    "from sklearn.metrics import r2_score\n",
    "from sklearn.linear_model import LinearRegression\n",
    "from sklearn.model_selection import train_test_split"
   ]
  },
  {
   "cell_type": "markdown",
   "id": "f2009b37",
   "metadata": {},
   "source": [
    "***I'd like to define some utility functions***"
   ]
  },
  {
   "cell_type": "code",
   "execution_count": 7,
   "id": "d1d3bb1e",
   "metadata": {},
   "outputs": [],
   "source": [
    "def replace_str(df: DataFrame,  match_str: str, *columns: List[str]) -> DataFrame:\n",
    "    \"\"\"\n",
    "    Remove the `match_str`of each value in `columns` of df\n",
    "    and convert to float.\n",
    "    \n",
    "    Params:\n",
    "    df -- the dataframe\n",
    "    columns -- the list of column names need to replace\n",
    "    \n",
    "    Return:\n",
    "    df after replace\n",
    "    \n",
    "    Raise:\n",
    "    ValueError if column contains value that cannot convert to float\n",
    "    \"\"\"\n",
    "    \n",
    "    for column in columns:\n",
    "        if (column not in df.columns):\n",
    "            print(f\"[WARN] - The columns `{column}` is not in the given dataframe.\")\n",
    "            continue\n",
    "            \n",
    "        try:\n",
    "            df[column] = df[column].replace(match_str, \"\", regex=True).astype(float)\n",
    "        except:\n",
    "            raise ValueError(f\"[ERROR] - The `{column}` column contains invalid data format.\")\n",
    "    \n",
    "    return df\n",
    "\n",
    "def convert_currency_to_float(df: DataFrame, *columns: List[str]) -> DataFrame:\n",
    "    \"\"\"\n",
    "    Convert specific columns whose data format is currency with `$` sign to float.\n",
    "    By removing `$` and `,` from the original data and then convert to float.\n",
    "    \n",
    "    Params:\n",
    "    df -- the dataframe\n",
    "    columns -- the list of column names need to convert\n",
    "    \n",
    "    Return:\n",
    "    The dataframe with colmuns converted\n",
    "    \n",
    "    Raise:\n",
    "    ValueError if column contains value that cannot convert to float\n",
    "    \"\"\"\n",
    "    return replace_str(df, \"[\\$,]\", *columns)\n",
    "\n",
    "def convert_percent_to_float(df: DataFrame, *columns: List[str]) -> DataFrame:\n",
    "    \"\"\"\n",
    "    Convert specific columns whose data format is currency with `%` sign to float.\n",
    "\n",
    "    Params:\n",
    "    df -- the dataframe\n",
    "    columns -- the list of column names need to convert\n",
    "\n",
    "    Return:\n",
    "    The dataframe with colmuns converted\n",
    "\n",
    "    Raise:\n",
    "    ValueError if column contains value that cannot convert to float\n",
    "    \"\"\"\n",
    "    return replace_str(df, \"[\\%]\", *columns)\n",
    "\n",
    "\n",
    "def explore_missing_value(df: DataFrame):\n",
    "    \"\"\"Plot the precent of missing value for each columns\"\"\"\n",
    "    \n",
    "    missing_data = np.sum(df.isna())/df.shape[0]*100\n",
    "    missing_data.plot(title=\"Missing data\",\n",
    "                      kind=\"bar\")"
   ]
  },
  {
   "cell_type": "markdown",
   "id": "5488e92f",
   "metadata": {},
   "source": [
    "## The dataset files.\n",
    "***These files are data from Seatle Airbnb dataset***\n",
    "\n",
    "    1. calendar.csv\n",
    "    2. listings.csv    \n",
    "\n",
    "## Questions\n",
    "\n",
    "    1. What's is the time the house/apartment is cheapest and most available?\n",
    "    2. How is the price affected by other variables?\n",
    "    3. Where should we go to get the cheaper price?\n"
   ]
  },
  {
   "cell_type": "markdown",
   "id": "9d23f79d",
   "metadata": {},
   "source": [
    "## Read data"
   ]
  },
  {
   "cell_type": "code",
   "execution_count": 8,
   "id": "8b3c4f0c",
   "metadata": {},
   "outputs": [
    {
     "ename": "FileNotFoundError",
     "evalue": "[Errno 2] No such file or directory: './reviews.csv'",
     "output_type": "error",
     "traceback": [
      "\u001b[1;31m---------------------------------------------------------------------------\u001b[0m",
      "\u001b[1;31mFileNotFoundError\u001b[0m                         Traceback (most recent call last)",
      "\u001b[1;32m<ipython-input-8-5415326a3499>\u001b[0m in \u001b[0;36m<module>\u001b[1;34m\u001b[0m\n\u001b[0;32m      1\u001b[0m \u001b[0mcalendar_df\u001b[0m \u001b[1;33m=\u001b[0m \u001b[0mpd\u001b[0m\u001b[1;33m.\u001b[0m\u001b[0mread_csv\u001b[0m\u001b[1;33m(\u001b[0m\u001b[1;34m\"./calendar.csv\"\u001b[0m\u001b[1;33m)\u001b[0m\u001b[1;33m\u001b[0m\u001b[1;33m\u001b[0m\u001b[0m\n\u001b[1;32m----> 2\u001b[1;33m \u001b[0mreviews_df\u001b[0m \u001b[1;33m=\u001b[0m \u001b[0mpd\u001b[0m\u001b[1;33m.\u001b[0m\u001b[0mread_csv\u001b[0m\u001b[1;33m(\u001b[0m\u001b[1;34m\"./reviews.csv\"\u001b[0m\u001b[1;33m)\u001b[0m\u001b[1;33m\u001b[0m\u001b[1;33m\u001b[0m\u001b[0m\n\u001b[0m\u001b[0;32m      3\u001b[0m \u001b[0mlistings_df\u001b[0m \u001b[1;33m=\u001b[0m \u001b[0mpd\u001b[0m\u001b[1;33m.\u001b[0m\u001b[0mread_csv\u001b[0m\u001b[1;33m(\u001b[0m\u001b[1;34m\"./listings.csv\"\u001b[0m\u001b[1;33m)\u001b[0m\u001b[1;33m\u001b[0m\u001b[1;33m\u001b[0m\u001b[0m\n",
      "\u001b[1;32m~\\Anaconda3\\lib\\site-packages\\pandas\\io\\parsers.py\u001b[0m in \u001b[0;36mread_csv\u001b[1;34m(filepath_or_buffer, sep, delimiter, header, names, index_col, usecols, squeeze, prefix, mangle_dupe_cols, dtype, engine, converters, true_values, false_values, skipinitialspace, skiprows, skipfooter, nrows, na_values, keep_default_na, na_filter, verbose, skip_blank_lines, parse_dates, infer_datetime_format, keep_date_col, date_parser, dayfirst, cache_dates, iterator, chunksize, compression, thousands, decimal, lineterminator, quotechar, quoting, doublequote, escapechar, comment, encoding, dialect, error_bad_lines, warn_bad_lines, delim_whitespace, low_memory, memory_map, float_precision, storage_options)\u001b[0m\n\u001b[0;32m    608\u001b[0m     \u001b[0mkwds\u001b[0m\u001b[1;33m.\u001b[0m\u001b[0mupdate\u001b[0m\u001b[1;33m(\u001b[0m\u001b[0mkwds_defaults\u001b[0m\u001b[1;33m)\u001b[0m\u001b[1;33m\u001b[0m\u001b[1;33m\u001b[0m\u001b[0m\n\u001b[0;32m    609\u001b[0m \u001b[1;33m\u001b[0m\u001b[0m\n\u001b[1;32m--> 610\u001b[1;33m     \u001b[1;32mreturn\u001b[0m \u001b[0m_read\u001b[0m\u001b[1;33m(\u001b[0m\u001b[0mfilepath_or_buffer\u001b[0m\u001b[1;33m,\u001b[0m \u001b[0mkwds\u001b[0m\u001b[1;33m)\u001b[0m\u001b[1;33m\u001b[0m\u001b[1;33m\u001b[0m\u001b[0m\n\u001b[0m\u001b[0;32m    611\u001b[0m \u001b[1;33m\u001b[0m\u001b[0m\n\u001b[0;32m    612\u001b[0m \u001b[1;33m\u001b[0m\u001b[0m\n",
      "\u001b[1;32m~\\Anaconda3\\lib\\site-packages\\pandas\\io\\parsers.py\u001b[0m in \u001b[0;36m_read\u001b[1;34m(filepath_or_buffer, kwds)\u001b[0m\n\u001b[0;32m    460\u001b[0m \u001b[1;33m\u001b[0m\u001b[0m\n\u001b[0;32m    461\u001b[0m     \u001b[1;31m# Create the parser.\u001b[0m\u001b[1;33m\u001b[0m\u001b[1;33m\u001b[0m\u001b[1;33m\u001b[0m\u001b[0m\n\u001b[1;32m--> 462\u001b[1;33m     \u001b[0mparser\u001b[0m \u001b[1;33m=\u001b[0m \u001b[0mTextFileReader\u001b[0m\u001b[1;33m(\u001b[0m\u001b[0mfilepath_or_buffer\u001b[0m\u001b[1;33m,\u001b[0m \u001b[1;33m**\u001b[0m\u001b[0mkwds\u001b[0m\u001b[1;33m)\u001b[0m\u001b[1;33m\u001b[0m\u001b[1;33m\u001b[0m\u001b[0m\n\u001b[0m\u001b[0;32m    463\u001b[0m \u001b[1;33m\u001b[0m\u001b[0m\n\u001b[0;32m    464\u001b[0m     \u001b[1;32mif\u001b[0m \u001b[0mchunksize\u001b[0m \u001b[1;32mor\u001b[0m \u001b[0miterator\u001b[0m\u001b[1;33m:\u001b[0m\u001b[1;33m\u001b[0m\u001b[1;33m\u001b[0m\u001b[0m\n",
      "\u001b[1;32m~\\Anaconda3\\lib\\site-packages\\pandas\\io\\parsers.py\u001b[0m in \u001b[0;36m__init__\u001b[1;34m(self, f, engine, **kwds)\u001b[0m\n\u001b[0;32m    817\u001b[0m             \u001b[0mself\u001b[0m\u001b[1;33m.\u001b[0m\u001b[0moptions\u001b[0m\u001b[1;33m[\u001b[0m\u001b[1;34m\"has_index_names\"\u001b[0m\u001b[1;33m]\u001b[0m \u001b[1;33m=\u001b[0m \u001b[0mkwds\u001b[0m\u001b[1;33m[\u001b[0m\u001b[1;34m\"has_index_names\"\u001b[0m\u001b[1;33m]\u001b[0m\u001b[1;33m\u001b[0m\u001b[1;33m\u001b[0m\u001b[0m\n\u001b[0;32m    818\u001b[0m \u001b[1;33m\u001b[0m\u001b[0m\n\u001b[1;32m--> 819\u001b[1;33m         \u001b[0mself\u001b[0m\u001b[1;33m.\u001b[0m\u001b[0m_engine\u001b[0m \u001b[1;33m=\u001b[0m \u001b[0mself\u001b[0m\u001b[1;33m.\u001b[0m\u001b[0m_make_engine\u001b[0m\u001b[1;33m(\u001b[0m\u001b[0mself\u001b[0m\u001b[1;33m.\u001b[0m\u001b[0mengine\u001b[0m\u001b[1;33m)\u001b[0m\u001b[1;33m\u001b[0m\u001b[1;33m\u001b[0m\u001b[0m\n\u001b[0m\u001b[0;32m    820\u001b[0m \u001b[1;33m\u001b[0m\u001b[0m\n\u001b[0;32m    821\u001b[0m     \u001b[1;32mdef\u001b[0m \u001b[0mclose\u001b[0m\u001b[1;33m(\u001b[0m\u001b[0mself\u001b[0m\u001b[1;33m)\u001b[0m\u001b[1;33m:\u001b[0m\u001b[1;33m\u001b[0m\u001b[1;33m\u001b[0m\u001b[0m\n",
      "\u001b[1;32m~\\Anaconda3\\lib\\site-packages\\pandas\\io\\parsers.py\u001b[0m in \u001b[0;36m_make_engine\u001b[1;34m(self, engine)\u001b[0m\n\u001b[0;32m   1048\u001b[0m             )\n\u001b[0;32m   1049\u001b[0m         \u001b[1;31m# error: Too many arguments for \"ParserBase\"\u001b[0m\u001b[1;33m\u001b[0m\u001b[1;33m\u001b[0m\u001b[1;33m\u001b[0m\u001b[0m\n\u001b[1;32m-> 1050\u001b[1;33m         \u001b[1;32mreturn\u001b[0m \u001b[0mmapping\u001b[0m\u001b[1;33m[\u001b[0m\u001b[0mengine\u001b[0m\u001b[1;33m]\u001b[0m\u001b[1;33m(\u001b[0m\u001b[0mself\u001b[0m\u001b[1;33m.\u001b[0m\u001b[0mf\u001b[0m\u001b[1;33m,\u001b[0m \u001b[1;33m**\u001b[0m\u001b[0mself\u001b[0m\u001b[1;33m.\u001b[0m\u001b[0moptions\u001b[0m\u001b[1;33m)\u001b[0m  \u001b[1;31m# type: ignore[call-arg]\u001b[0m\u001b[1;33m\u001b[0m\u001b[1;33m\u001b[0m\u001b[0m\n\u001b[0m\u001b[0;32m   1051\u001b[0m \u001b[1;33m\u001b[0m\u001b[0m\n\u001b[0;32m   1052\u001b[0m     \u001b[1;32mdef\u001b[0m \u001b[0m_failover_to_python\u001b[0m\u001b[1;33m(\u001b[0m\u001b[0mself\u001b[0m\u001b[1;33m)\u001b[0m\u001b[1;33m:\u001b[0m\u001b[1;33m\u001b[0m\u001b[1;33m\u001b[0m\u001b[0m\n",
      "\u001b[1;32m~\\Anaconda3\\lib\\site-packages\\pandas\\io\\parsers.py\u001b[0m in \u001b[0;36m__init__\u001b[1;34m(self, src, **kwds)\u001b[0m\n\u001b[0;32m   1865\u001b[0m \u001b[1;33m\u001b[0m\u001b[0m\n\u001b[0;32m   1866\u001b[0m         \u001b[1;31m# open handles\u001b[0m\u001b[1;33m\u001b[0m\u001b[1;33m\u001b[0m\u001b[1;33m\u001b[0m\u001b[0m\n\u001b[1;32m-> 1867\u001b[1;33m         \u001b[0mself\u001b[0m\u001b[1;33m.\u001b[0m\u001b[0m_open_handles\u001b[0m\u001b[1;33m(\u001b[0m\u001b[0msrc\u001b[0m\u001b[1;33m,\u001b[0m \u001b[0mkwds\u001b[0m\u001b[1;33m)\u001b[0m\u001b[1;33m\u001b[0m\u001b[1;33m\u001b[0m\u001b[0m\n\u001b[0m\u001b[0;32m   1868\u001b[0m         \u001b[1;32massert\u001b[0m \u001b[0mself\u001b[0m\u001b[1;33m.\u001b[0m\u001b[0mhandles\u001b[0m \u001b[1;32mis\u001b[0m \u001b[1;32mnot\u001b[0m \u001b[1;32mNone\u001b[0m\u001b[1;33m\u001b[0m\u001b[1;33m\u001b[0m\u001b[0m\n\u001b[0;32m   1869\u001b[0m         \u001b[1;32mfor\u001b[0m \u001b[0mkey\u001b[0m \u001b[1;32min\u001b[0m \u001b[1;33m(\u001b[0m\u001b[1;34m\"storage_options\"\u001b[0m\u001b[1;33m,\u001b[0m \u001b[1;34m\"encoding\"\u001b[0m\u001b[1;33m,\u001b[0m \u001b[1;34m\"memory_map\"\u001b[0m\u001b[1;33m,\u001b[0m \u001b[1;34m\"compression\"\u001b[0m\u001b[1;33m)\u001b[0m\u001b[1;33m:\u001b[0m\u001b[1;33m\u001b[0m\u001b[1;33m\u001b[0m\u001b[0m\n",
      "\u001b[1;32m~\\Anaconda3\\lib\\site-packages\\pandas\\io\\parsers.py\u001b[0m in \u001b[0;36m_open_handles\u001b[1;34m(self, src, kwds)\u001b[0m\n\u001b[0;32m   1360\u001b[0m         \u001b[0mLet\u001b[0m \u001b[0mthe\u001b[0m \u001b[0mreaders\u001b[0m \u001b[0mopen\u001b[0m \u001b[0mIOHanldes\u001b[0m \u001b[0mafter\u001b[0m \u001b[0mthey\u001b[0m \u001b[0mare\u001b[0m \u001b[0mdone\u001b[0m \u001b[1;32mwith\u001b[0m \u001b[0mtheir\u001b[0m \u001b[0mpotential\u001b[0m \u001b[0mraises\u001b[0m\u001b[1;33m.\u001b[0m\u001b[1;33m\u001b[0m\u001b[1;33m\u001b[0m\u001b[0m\n\u001b[0;32m   1361\u001b[0m         \"\"\"\n\u001b[1;32m-> 1362\u001b[1;33m         self.handles = get_handle(\n\u001b[0m\u001b[0;32m   1363\u001b[0m             \u001b[0msrc\u001b[0m\u001b[1;33m,\u001b[0m\u001b[1;33m\u001b[0m\u001b[1;33m\u001b[0m\u001b[0m\n\u001b[0;32m   1364\u001b[0m             \u001b[1;34m\"r\"\u001b[0m\u001b[1;33m,\u001b[0m\u001b[1;33m\u001b[0m\u001b[1;33m\u001b[0m\u001b[0m\n",
      "\u001b[1;32m~\\Anaconda3\\lib\\site-packages\\pandas\\io\\common.py\u001b[0m in \u001b[0;36mget_handle\u001b[1;34m(path_or_buf, mode, encoding, compression, memory_map, is_text, errors, storage_options)\u001b[0m\n\u001b[0;32m    640\u001b[0m                 \u001b[0merrors\u001b[0m \u001b[1;33m=\u001b[0m \u001b[1;34m\"replace\"\u001b[0m\u001b[1;33m\u001b[0m\u001b[1;33m\u001b[0m\u001b[0m\n\u001b[0;32m    641\u001b[0m             \u001b[1;31m# Encoding\u001b[0m\u001b[1;33m\u001b[0m\u001b[1;33m\u001b[0m\u001b[1;33m\u001b[0m\u001b[0m\n\u001b[1;32m--> 642\u001b[1;33m             handle = open(\n\u001b[0m\u001b[0;32m    643\u001b[0m                 \u001b[0mhandle\u001b[0m\u001b[1;33m,\u001b[0m\u001b[1;33m\u001b[0m\u001b[1;33m\u001b[0m\u001b[0m\n\u001b[0;32m    644\u001b[0m                 \u001b[0mioargs\u001b[0m\u001b[1;33m.\u001b[0m\u001b[0mmode\u001b[0m\u001b[1;33m,\u001b[0m\u001b[1;33m\u001b[0m\u001b[1;33m\u001b[0m\u001b[0m\n",
      "\u001b[1;31mFileNotFoundError\u001b[0m: [Errno 2] No such file or directory: './reviews.csv'"
     ]
    }
   ],
   "source": [
    "calendar_df = pd.read_csv(\"./calendar.csv\")\n",
    "listings_df = pd.read_csv(\"./listings.csv\")"
   ]
  },
  {
   "cell_type": "code",
   "execution_count": null,
   "id": "f3f8a9fe",
   "metadata": {},
   "outputs": [],
   "source": [
    "calendar_df.head()"
   ]
  },
  {
   "cell_type": "code",
   "execution_count": null,
   "id": "7f5ce83d",
   "metadata": {
    "scrolled": true
   },
   "outputs": [],
   "source": [
    "listings_df.head()"
   ]
  },
  {
   "cell_type": "code",
   "execution_count": null,
   "id": "012ed2cb",
   "metadata": {},
   "outputs": [],
   "source": [
    "_ = listings_df.corr().review_scores_rating.plot.bar(figsize=(10, 20))"
   ]
  },
  {
   "cell_type": "markdown",
   "id": "e3593d36",
   "metadata": {},
   "source": [
    "## The calendar data"
   ]
  },
  {
   "cell_type": "markdown",
   "id": "75225929",
   "metadata": {},
   "source": [
    "### Clean data"
   ]
  },
  {
   "cell_type": "markdown",
   "id": "41b83250",
   "metadata": {},
   "source": [
    "The current `dtype` of `price` is just string with `$` sign. Let's remove it and covert it to float."
   ]
  },
  {
   "cell_type": "markdown",
   "id": "e1de27ef",
   "metadata": {},
   "source": [
    "Beside, ther are some thousands-separator `,`, we should remove it too."
   ]
  },
  {
   "cell_type": "code",
   "execution_count": null,
   "id": "76da95c4",
   "metadata": {},
   "outputs": [],
   "source": [
    "calendar_price_converted = convert_currency_to_float(calendar_df, \"price\")"
   ]
  },
  {
   "cell_type": "markdown",
   "id": "1fe7bc06",
   "metadata": {},
   "source": [
    "*Look at the missing value*"
   ]
  },
  {
   "cell_type": "code",
   "execution_count": null,
   "id": "4856a27c",
   "metadata": {},
   "outputs": [],
   "source": [
    "explore_missing_value(calendar_price_converted)"
   ]
  },
  {
   "cell_type": "markdown",
   "id": "456b5aa3",
   "metadata": {},
   "source": [
    "There's about **30%** of missing value in `price`. \n",
    "This field is numeric value. I want to use `mean()` to fill all NaN value for it."
   ]
  },
  {
   "cell_type": "code",
   "execution_count": null,
   "id": "a2bc5991",
   "metadata": {},
   "outputs": [],
   "source": [
    "def fill_na_mean(df: DataFrame,\n",
    "                 *columns: List[str]) -> DataFrame:\n",
    "    \"\"\"\n",
    "    Fillna for `columns` of `df`\n",
    "    \n",
    "    Param:\n",
    "    df -- The dataframe\n",
    "    columns -- List of column name need to fill\n",
    "    \n",
    "    Return:\n",
    "    The dataframe with filled columns\n",
    "    \n",
    "    Raise:\n",
    "    InputError: any column name is not in `df`\n",
    "    ValueError: cannot calculate mean value of the column\n",
    "    \"\"\"\n",
    "    \n",
    "    if(any(column not in df.columns for column in columns)):\n",
    "        raise InputError(\"Some of given columns is not in `df`\")\n",
    "    \n",
    "    for column in columns:\n",
    "        df[column] = df[column].fillna(df[column].mean())\n",
    "    \n",
    "    return df\n",
    "\n",
    "calendar_filled = fill_na_mean(calendar_price_converted, \"price\")"
   ]
  },
  {
   "cell_type": "markdown",
   "id": "cf019354",
   "metadata": {},
   "source": [
    "**Here I have no missing value!**"
   ]
  },
  {
   "cell_type": "markdown",
   "id": "d115d2f2",
   "metadata": {},
   "source": [
    "Covert type of `date` to `Datetime`"
   ]
  },
  {
   "cell_type": "code",
   "execution_count": null,
   "id": "67261e09",
   "metadata": {},
   "outputs": [],
   "source": [
    "calendar_filled.date = pd.to_datetime(calendar_filled.date)"
   ]
  },
  {
   "cell_type": "markdown",
   "id": "3a08f1a3",
   "metadata": {},
   "source": [
    "# 1. Question 1 - When should we book a room?"
   ]
  },
  {
   "cell_type": "markdown",
   "id": "3b798e6e",
   "metadata": {},
   "source": [
    "### Generate some variables from `date`"
   ]
  },
  {
   "cell_type": "code",
   "execution_count": null,
   "id": "a2a4bc49",
   "metadata": {},
   "outputs": [],
   "source": [
    "def get_day_name(number: int) -> str:\n",
    "    day_dict = {\n",
    "        0: '0_Monday',\n",
    "        1: '1_Tuesday',\n",
    "        2: '2_Wednesday',\n",
    "        3: '3_Thursday',\n",
    "        4: '4_Friday',\n",
    "        5: '5_Saturday',\n",
    "        6: '6_Sunday'\n",
    "    }\n",
    "    \n",
    "    return day_dict[number]\n",
    "calendar_filled[\"day_of_week\"] = calendar_filled.date.dt.dayofweek\n",
    "calendar_filled[\"day_of_week\"] = calendar_filled[\"day_of_week\"].apply(lambda x: get_day_name(x))\n",
    "\n",
    "calendar_filled[\"month\"] = calendar_filled.date.dt.month"
   ]
  },
  {
   "cell_type": "code",
   "execution_count": null,
   "id": "0f46dee9",
   "metadata": {},
   "outputs": [],
   "source": [
    "calendar_filled.day_of_week"
   ]
  },
  {
   "cell_type": "markdown",
   "id": "f74cc69b",
   "metadata": {},
   "source": [
    "***How is the price in a week?***"
   ]
  },
  {
   "cell_type": "code",
   "execution_count": null,
   "id": "778e081a",
   "metadata": {},
   "outputs": [],
   "source": [
    "_ = calendar_filled.groupby(\"day_of_week\").price.mean().plot.line(title=\"Price in week\", y=\"Price\")"
   ]
  },
  {
   "cell_type": "markdown",
   "id": "73527416",
   "metadata": {},
   "source": [
    "***How about the availability in a week?***"
   ]
  },
  {
   "cell_type": "markdown",
   "id": "e22fe29d",
   "metadata": {},
   "source": [
    "First, let's make some conversion in the `availabble` column.\n",
    "The value `t`, `f` will be converted to 1, 0 respectively."
   ]
  },
  {
   "cell_type": "code",
   "execution_count": null,
   "id": "cde69d77",
   "metadata": {},
   "outputs": [],
   "source": [
    "def convert_tf_to_number(s: str) -> int:\n",
    "    if(s == 't'):\n",
    "        return 1\n",
    "    elif(s == 'f'):\n",
    "        return 0\n",
    "    else:\n",
    "        raise InputException(\"Invalid input. Only 't' or 'f' is accepted.\")\n",
    "        \n",
    "calendar_filled[\"available_number\"] = calendar_filled.available.apply(convert_tf_to_number)\n",
    "_ = calendar_filled.groupby(\"day_of_week\")[\"available_number\"].sum().plot.line(title=\"Availability in week\")"
   ]
  },
  {
   "cell_type": "markdown",
   "id": "195b7df0",
   "metadata": {},
   "source": [
    "We can see that the `price` is highest in Friday and Staturday. \n",
    "And it's reasonable when the `availability` is opposite to the `price`"
   ]
  },
  {
   "cell_type": "markdown",
   "id": "2e663444",
   "metadata": {},
   "source": [
    "What about the `availability` through months?"
   ]
  },
  {
   "cell_type": "code",
   "execution_count": null,
   "id": "b0e268de",
   "metadata": {},
   "outputs": [],
   "source": [
    "_ = calendar_filled.groupby(\"month\")[\"available_number\"].sum().plot.line(title=\"Availability in month\")"
   ]
  },
  {
   "cell_type": "markdown",
   "id": "d2d58e79",
   "metadata": {},
   "source": [
    "# The listing data"
   ]
  },
  {
   "cell_type": "markdown",
   "id": "bbb33e8b",
   "metadata": {},
   "source": [
    "## Clean data"
   ]
  },
  {
   "cell_type": "markdown",
   "id": "6cd5152c",
   "metadata": {},
   "source": [
    "First look at the missing value"
   ]
  },
  {
   "cell_type": "code",
   "execution_count": null,
   "id": "bce7bd3b",
   "metadata": {},
   "outputs": [],
   "source": [
    "explore_missing_value(listings_df)"
   ]
  },
  {
   "cell_type": "markdown",
   "id": "95941d37",
   "metadata": {},
   "source": [
    "There are some columns that have more than **90%** missing value.\n",
    "We should consider to drop them."
   ]
  },
  {
   "cell_type": "code",
   "execution_count": null,
   "id": "f9761c72",
   "metadata": {},
   "outputs": [],
   "source": [
    "def get_missing_columns(df: DataFrame, missing_rate=.5) -> List[str]:\n",
    "    \"\"\"\n",
    "    Get colums name that rate of missing value greater than `missing_rate`\n",
    "    \n",
    "    Params:\n",
    "    df -- The dataframe\n",
    "    missing -- The missing rate\n",
    "    \n",
    "    Returns\n",
    "    List of columns name that has missing value more than missing rate\n",
    "    \"\"\"\n",
    "    \n",
    "    return set(df.columns[df.isna().mean() > missing_rate])"
   ]
  },
  {
   "cell_type": "code",
   "execution_count": null,
   "id": "28beeb85",
   "metadata": {},
   "outputs": [],
   "source": [
    "_90_missing_columns = get_missing_columns(listings_df, 0.9)\n",
    "print(_90_missing_columns)"
   ]
  },
  {
   "cell_type": "markdown",
   "id": "87bbac7d",
   "metadata": {},
   "source": [
    "There're 2 columns that has more than 90% missing and they look not important. Let's drop them all."
   ]
  },
  {
   "cell_type": "code",
   "execution_count": null,
   "id": "c4532416",
   "metadata": {},
   "outputs": [],
   "source": [
    "listing_dropped = listings_df.drop(_90_missing_columns, axis=1)"
   ]
  },
  {
   "cell_type": "code",
   "execution_count": null,
   "id": "756534d9",
   "metadata": {},
   "outputs": [],
   "source": [
    "explore_missing_value(listing_dropped)"
   ]
  },
  {
   "cell_type": "markdown",
   "id": "17fa802d",
   "metadata": {},
   "source": [
    "There're some varaibles that contains only one value. It's good to remove them."
   ]
  },
  {
   "cell_type": "code",
   "execution_count": null,
   "id": "3c587f79",
   "metadata": {},
   "outputs": [],
   "source": [
    "def is_constant(column: Series) -> bool:\n",
    "    \"\"\"Check if a Series is contains only one value \"\"\"\n",
    "    return column.unique().shape[0] == 1\n",
    "\n",
    "unique_value_columns = [column for column in listing_dropped.columns if is_constant(listing_dropped[column])]\n",
    "print(unique_value_columns)"
   ]
  },
  {
   "cell_type": "markdown",
   "id": "0282c7f9",
   "metadata": {},
   "source": [
    "Let's drop these columns"
   ]
  },
  {
   "cell_type": "code",
   "execution_count": null,
   "id": "1db15235",
   "metadata": {},
   "outputs": [],
   "source": [
    "listing_dropped = listing_dropped.drop(unique_value_columns, axis=1)"
   ]
  },
  {
   "cell_type": "markdown",
   "id": "918d5920",
   "metadata": {},
   "source": [
    "We should find columns that contains currency value, like the `price` of `calendar_df`"
   ]
  },
  {
   "cell_type": "code",
   "execution_count": null,
   "id": "02b9b6a2",
   "metadata": {},
   "outputs": [],
   "source": [
    "# Find object columns\n",
    "object_data = listing_dropped.select_dtypes(include=[\"object\"])\n",
    "def is_currency(column: Series) -> bool:\n",
    "    return column.str.match(\"[\\$]\").all()\n",
    "\n",
    "# Find column name of currency columns\n",
    "currency_columns = [ column for column in object_data.columns if (is_currency(object_data[column]))]\n",
    "\n",
    "# Convert corrency column dtype to float\n",
    "listing_converted = convert_currency_to_float(listing_dropped, *currency_columns)"
   ]
  },
  {
   "cell_type": "markdown",
   "id": "497c2536",
   "metadata": {},
   "source": [
    "Beside the `$` we also have `%` sign in the numerical columns that we should handle"
   ]
  },
  {
   "cell_type": "code",
   "execution_count": null,
   "id": "a580942a",
   "metadata": {},
   "outputs": [],
   "source": [
    "def is_percent(column: Series) -> bool:\n",
    "    return column.str.match(\".+[%]$\").all()\n",
    "# Find column name of percent columns\n",
    "percent_columns = [ column for column in object_data.columns if (is_percent(object_data[column]))]\n",
    "listing_converted = convert_percent_to_float(listing_converted, *percent_columns)"
   ]
  },
  {
   "cell_type": "markdown",
   "id": "6a13b30a",
   "metadata": {},
   "source": [
    "Next, I'd like to fill numerical columns with `mean()`"
   ]
  },
  {
   "cell_type": "code",
   "execution_count": null,
   "id": "c888da02",
   "metadata": {},
   "outputs": [],
   "source": [
    "numerical_columns = listing_converted.select_dtypes(exclude=\"object\").columns\n",
    "listing_filled = fill_na_mean(listing_converted, *numerical_columns)"
   ]
  },
  {
   "cell_type": "markdown",
   "id": "a19abb3c",
   "metadata": {},
   "source": [
    "There're still some variables that has large amount of missing value when compare to the rest(more than 4%).\n",
    "Let's see what are they."
   ]
  },
  {
   "cell_type": "markdown",
   "id": "8a4cba09",
   "metadata": {},
   "source": [
    "Some of them seem to be useless, so that I'd like to drop them.\n",
    "The variables like `url` or `summary` or `id` need to be remove"
   ]
  },
  {
   "cell_type": "code",
   "execution_count": null,
   "id": "eb9a972d",
   "metadata": {},
   "outputs": [],
   "source": [
    "drop_columns = list([\n",
    "    'id',\n",
    "    'space',\n",
    "    'state',\n",
    "    'name',\n",
    "    'availability_365',\n",
    "    'availability_90',\n",
    "    'availability_60',\n",
    "    'availability_30',\n",
    "    'description',\n",
    "    'listing_url',\n",
    "    'thumbnail_url',\n",
    "    'medium_url',\n",
    "    'summary',\n",
    "    'calendar_updated',\n",
    "    'host_neighbourhood',\n",
    "    'neighbourhood',\n",
    "    'host_response_time',\n",
    "    'host_since',\n",
    "    'picture_url',\n",
    "    'xl_picture_url',\n",
    "    'host_url',\n",
    "    'host_name',\n",
    "    'host_thumbnail_url',\n",
    "    'host_picture_url',\n",
    "    'first_review',\n",
    "    'neighborhood_overview',\n",
    "    'notes',\n",
    "    'transit',\n",
    "    'host_about',\n",
    "    'neighbourhood_cleansed',\n",
    "    'last_review',\n",
    "    'host_location',\n",
    "    'host_verifications',\n",
    "    'street',\n",
    "    'host_is_superhost',\n",
    "    'host_has_profile_pic',\n",
    "    'host_identity_verified',\n",
    "    'neighbourhood_group_cleansed',\n",
    "    'city',\n",
    "    'zipcode',\n",
    "    'smart_location',\n",
    "    'is_location_exact',\n",
    "    'instant_bookable',\n",
    "    'cancellation_policy',\n",
    "    'require_guest_profile_picture',\n",
    "    'require_guest_phone_verification',\n",
    "    'host_id',\n",
    "    'host_response_rate',\n",
    "    'host_acceptance_rate'])\n",
    "listing_filled = listing_filled.drop(drop_columns, axis=1)"
   ]
  },
  {
   "cell_type": "markdown",
   "id": "8e2f059e",
   "metadata": {},
   "source": [
    "## 2. Question 2. Which factor affecting the `price`"
   ]
  },
  {
   "cell_type": "markdown",
   "id": "e1296601",
   "metadata": {},
   "source": [
    "***The relationship between `price` and orthers***"
   ]
  },
  {
   "cell_type": "code",
   "execution_count": 5,
   "id": "0dcef6ee",
   "metadata": {
    "scrolled": false
   },
   "outputs": [
    {
     "ename": "NameError",
     "evalue": "name 'listing_filled' is not defined",
     "output_type": "error",
     "traceback": [
      "\u001b[1;31m---------------------------------------------------------------------------\u001b[0m",
      "\u001b[1;31mNameError\u001b[0m                                 Traceback (most recent call last)",
      "\u001b[1;32m<ipython-input-5-8389097cec9a>\u001b[0m in \u001b[0;36m<module>\u001b[1;34m\u001b[0m\n\u001b[1;32m----> 1\u001b[1;33m \u001b[0m_\u001b[0m \u001b[1;33m=\u001b[0m \u001b[0mlisting_filled\u001b[0m\u001b[1;33m.\u001b[0m\u001b[0mcorr\u001b[0m\u001b[1;33m(\u001b[0m\u001b[1;33m)\u001b[0m\u001b[1;33m.\u001b[0m\u001b[0mprice\u001b[0m\u001b[1;33m.\u001b[0m\u001b[0mplot\u001b[0m\u001b[1;33m.\u001b[0m\u001b[0mbar\u001b[0m\u001b[1;33m(\u001b[0m\u001b[0mtitle\u001b[0m\u001b[1;33m=\u001b[0m\u001b[1;34m\"Correlation between price and orther numeric variables\"\u001b[0m\u001b[1;33m,\u001b[0m\u001b[0mfigsize\u001b[0m\u001b[1;33m=\u001b[0m\u001b[1;33m(\u001b[0m\u001b[1;36m20\u001b[0m\u001b[1;33m,\u001b[0m\u001b[1;36m10\u001b[0m\u001b[1;33m)\u001b[0m\u001b[1;33m)\u001b[0m\u001b[1;33m\u001b[0m\u001b[1;33m\u001b[0m\u001b[0m\n\u001b[0m",
      "\u001b[1;31mNameError\u001b[0m: name 'listing_filled' is not defined"
     ]
    }
   ],
   "source": [
    "_ = listing_filled.corr().price.plot.bar(title=\"Correlation between price and orther numeric variables\",figsize=(20,10))"
   ]
  },
  {
   "cell_type": "markdown",
   "id": "d7eb85b2",
   "metadata": {},
   "source": [
    "There're some vairable that is important to decide the `price`: `accommodates`, `bathroms`, `bedrooms`, `beds`, `weekly price`, `monthly_price`,..."
   ]
  },
  {
   "cell_type": "markdown",
   "id": "8d3df719",
   "metadata": {},
   "source": [
    "**Then we take a look at the relationship with *category variable***"
   ]
  },
  {
   "cell_type": "code",
   "execution_count": 28,
   "id": "4549a0f8",
   "metadata": {},
   "outputs": [],
   "source": [
    "catergory_vars = [\n",
    "    'property_type',\n",
    "    'room_type',\n",
    "    'bed_type'\n",
    "]"
   ]
  },
  {
   "cell_type": "code",
   "execution_count": 29,
   "id": "3ffcf195",
   "metadata": {},
   "outputs": [],
   "source": [
    "def get_dummies(df: DataFrame, *columns: List[str]) -> DataFrame:\n",
    "    \"\"\"Convert `columns` in `df` to dummy variables\"\"\"\n",
    "    for column in columns:\n",
    "        df = pd.concat([df.drop(column, axis=1), pd.get_dummies(df[column], drop_first=True, dummy_na=True, prefix=column, prefix_sep='_')], axis=1)\n",
    "    \n",
    "    return df\n"
   ]
  },
  {
   "cell_type": "markdown",
   "id": "b47a65a4",
   "metadata": {},
   "source": [
    "**With the `property_type`**"
   ]
  },
  {
   "cell_type": "code",
   "execution_count": 30,
   "id": "b378a873",
   "metadata": {},
   "outputs": [
    {
     "data": {
      "image/png": "[encoded data removed]",
      "text/plain": [
       "<Figure size 432x288 with 1 Axes>"
      ]
     },
     "metadata": {
      "needs_background": "light"
     },
     "output_type": "display_data"
    }
   ],
   "source": [
    "price_vs_property_type = get_dummies(listing_filled[[\"price\", catergory_vars[0]]], catergory_vars[0])\n",
    "_ = price_vs_property_type.corr().price.plot.barh()"
   ]
  },
  {
   "cell_type": "markdown",
   "id": "9f8ba35e",
   "metadata": {},
   "source": [
    "**With the `room_type`**"
   ]
  },
  {
   "cell_type": "code",
   "execution_count": 31,
   "id": "568ff66d",
   "metadata": {},
   "outputs": [
    {
     "data": {
      "image/png": "[encoded data removed]",
      "text/plain": [
       "<Figure size 432x288 with 1 Axes>"
      ]
     },
     "metadata": {
      "needs_background": "light"
     },
     "output_type": "display_data"
    }
   ],
   "source": [
    "price_vs_room_type = get_dummies(listing_filled[[\"price\", catergory_vars[1]]], catergory_vars[1])\n",
    "_ = price_vs_room_type.corr().price.plot.barh()"
   ]
  },
  {
   "cell_type": "markdown",
   "id": "0e7b0e53",
   "metadata": {},
   "source": [
    "**With the `bed_type`**"
   ]
  },
  {
   "cell_type": "code",
   "execution_count": 32,
   "id": "ab5adbff",
   "metadata": {},
   "outputs": [
    {
     "data": {
      "image/png": "[encoded data removed]",
      "text/plain": [
       "<Figure size 432x288 with 1 Axes>"
      ]
     },
     "metadata": {
      "needs_background": "light"
     },
     "output_type": "display_data"
    }
   ],
   "source": [
    "price_vs_bed_type = get_dummies(listing_filled[[\"price\", catergory_vars[2]]], catergory_vars[2])\n",
    "_ = price_vs_bed_type.corr().price.plot.barh()"
   ]
  },
  {
   "cell_type": "markdown",
   "id": "3e536e35",
   "metadata": {},
   "source": [
    "## Handle `amenities`"
   ]
  },
  {
   "cell_type": "code",
   "execution_count": 33,
   "id": "ef26d7c8",
   "metadata": {},
   "outputs": [],
   "source": [
    "ALL = []\n",
    "for amenities in listing_filled.amenities:\n",
    "    ALL += re.sub('[\\{\\}\\\"]', '', amenities).split(',')\n",
    "    \n",
    "ALL = pd.unique(ALL)"
   ]
  },
  {
   "cell_type": "code",
   "execution_count": 34,
   "id": "e7a3b1d9",
   "metadata": {},
   "outputs": [],
   "source": [
    "zero_matrix = np.zeros((len(listing_filled), len(ALL)))\n",
    "dummies_ame = pd.DataFrame(zero_matrix, columns=ALL)"
   ]
  },
  {
   "cell_type": "code",
   "execution_count": 35,
   "id": "dd7770da",
   "metadata": {},
   "outputs": [],
   "source": [
    "for i, amenities in enumerate(listing_filled.amenities):\n",
    "    indices = dummies_ame.columns.get_indexer(amenities.replace('{','').replace('}','').replace('\"','').split(','))\n",
    "    dummies_ame.iloc[i,indices]=1"
   ]
  },
  {
   "cell_type": "code",
   "execution_count": 36,
   "id": "75ed281d",
   "metadata": {},
   "outputs": [
    {
     "data": {
      "image/png": "[encoded data removed]",
      "text/plain": [
       "<Figure size 432x288 with 1 Axes>"
      ]
     },
     "metadata": {
      "needs_background": "light"
     },
     "output_type": "display_data"
    }
   ],
   "source": [
    "price_vs_amenities = pd.concat([listing_filled[\"price\"], dummies_ame], axis=1)\n",
    "corr = price_vs_amenities.corr().price\n",
    "_ = corr.plot.barh()"
   ]
  },
  {
   "cell_type": "markdown",
   "id": "61a95ebf",
   "metadata": {},
   "source": [
    "Here we have the correlation between `price` and for i, `amenities`. Let's filter the importance \n",
    "varaibles to see clearly!"
   ]
  },
  {
   "cell_type": "code",
   "execution_count": 37,
   "id": "f9398b3e",
   "metadata": {
    "scrolled": true
   },
   "outputs": [
    {
     "data": {
      "image/png": "[encoded data removed]",
      "text/plain": [
       "<Figure size 432x288 with 1 Axes>"
      ]
     },
     "metadata": {
      "needs_background": "light"
     },
     "output_type": "display_data"
    }
   ],
   "source": [
    "_ = corr[corr > 0.1].plot.barh()"
   ]
  },
  {
   "cell_type": "markdown",
   "id": "eb5f8d7a",
   "metadata": {},
   "source": [
    "## 3. Question 3 - Which state should we go to get the cheaper price?"
   ]
  },
  {
   "cell_type": "markdown",
   "id": "8354adce",
   "metadata": {},
   "source": [
    "First I want to use the original data and fill the price with mean"
   ]
  },
  {
   "cell_type": "code",
   "execution_count": 38,
   "id": "5d311493",
   "metadata": {},
   "outputs": [],
   "source": [
    "full_price_data = convert_currency_to_float(listings_df, 'price')\n",
    "full_price_data = fill_na_mean(full_price_data, 'price')"
   ]
  },
  {
   "cell_type": "markdown",
   "id": "3d729e45",
   "metadata": {},
   "source": [
    "Then, we go to extract the `host_state` from `host_location`"
   ]
  },
  {
   "cell_type": "code",
   "execution_count": 39,
   "id": "26215474",
   "metadata": {},
   "outputs": [],
   "source": [
    "def parse_state(location: str) -> str:\n",
    "    \"\"\"Return state from location string\"\"\"\n",
    "    if (not isinstance(location, str)):\n",
    "        return \"\"\n",
    "    \n",
    "    parse_values = location.split(',')\n",
    "    return parse_values[1].strip() if (len(parse_values) > 1) else \"\"\n",
    "\n",
    "full_price_data[\"host_state\"] = full_price_data[\"host_location\"].apply(parse_state)"
   ]
  },
  {
   "cell_type": "code",
   "execution_count": 40,
   "id": "c49aca11",
   "metadata": {},
   "outputs": [
    {
     "data": {
      "image/png": "[encoded data removed]",
      "text/plain": [
       "<Figure size 1440x720 with 1 Axes>"
      ]
     },
     "metadata": {
      "needs_background": "light"
     },
     "output_type": "display_data"
    }
   ],
   "source": [
    "_ = full_price_data[[\"host_state\", \"price\"]].groupby(\"host_state\").mean().sort_values(\"price\").plot.bar(title=\"Price of states\",\n",
    "                                                                                                        figsize=(20,10))"
   ]
  },
  {
   "cell_type": "markdown",
   "id": "4095b03b",
   "metadata": {},
   "source": [
    "# Predict the price"
   ]
  },
  {
   "cell_type": "markdown",
   "id": "9f703c55",
   "metadata": {},
   "source": [
    "I'd like to collect all data we just clean or generate:"
   ]
  },
  {
   "cell_type": "code",
   "execution_count": 41,
   "id": "6225243d",
   "metadata": {},
   "outputs": [],
   "source": [
    "\n",
    "listing_filled = listing_filled.drop(\"amenities\", axis=1)\n",
    "# dummies the category variables\n",
    "ensemble_data = get_dummies(listing_filled, catergory_vars)\n",
    "\n",
    "# combine to the dummies amenities\n",
    "ensemble_data = pd.concat([ensemble_data, dummies_ame], axis=1)"
   ]
  },
  {
   "cell_type": "code",
   "execution_count": 42,
   "id": "1f47788d",
   "metadata": {},
   "outputs": [],
   "source": [
    "def predict(df: DataFrame, label: str, rand_state=42, test_size=.3):\n",
    "    \"\"\"\n",
    "    Make train, test set from df and label.\n",
    "    Create the LinearRegression model (lm_model)\n",
    "    fit lm_model and calculate the r2_score\n",
    "    \n",
    "    Param:\n",
    "    df -- The dataframe\n",
    "    label -- The label\n",
    "    rand_state -- Random state for train_test_split\n",
    "    test_size -- The size of test data\n",
    "    \n",
    "    Return \n",
    "    lm_model, r2_score\n",
    "    \"\"\"\n",
    "    X = df.drop(label, axis=1)\n",
    "    Y = df[label]\n",
    "    \n",
    "    X_train, X_test, y_train, y_test = train_test_split(X, Y,\n",
    "                                                        random_state=rand_state,\n",
    "                                                        test_size=test_size)\n",
    "    \n",
    "    lm_model = LinearRegression(normalize=True)\n",
    "    lm_model.fit(X_train, y_train)\n",
    "    \n",
    "    pred = lm_model.predict(X_test)\n",
    "    train_score = r2_score(y_train, lm_model.predict(X_train))\n",
    "    pred_score = r2_score(y_test, pred)\n",
    "    \n",
    "    return lm_model, pred_score, train_score, X_train, X_test, y_train, y_test, pred"
   ]
  },
  {
   "cell_type": "code",
   "execution_count": 43,
   "id": "79c5c007",
   "metadata": {},
   "outputs": [],
   "source": [
    "lm_model, pred_score, train_score, X_train, X_test, y_train, y_test, pred = predict(pd.concat([dummies_ame, listing_filled.price], axis=1), \"price\")"
   ]
  },
  {
   "cell_type": "code",
   "execution_count": 44,
   "id": "6b708c5d",
   "metadata": {},
   "outputs": [
    {
     "name": "stdout",
     "output_type": "stream",
     "text": [
      "Score: 0.17672303742829654\n"
     ]
    }
   ],
   "source": [
    "print(f\"Score: {pred_score}\")"
   ]
  }
 ],
 "metadata": {
  "kernelspec": {
   "display_name": "Python 3",
   "language": "python",
   "name": "python3"
  },
  "language_info": {
   "codemirror_mode": {
    "name": "ipython",
    "version": 3
   },
   "file_extension": ".py",
   "mimetype": "text/x-python",
   "name": "python",
   "nbconvert_exporter": "python",
   "pygments_lexer": "ipython3",
   "version": "3.8.8"
  }
 },
 "nbformat": 4,
 "nbformat_minor": 5
}
